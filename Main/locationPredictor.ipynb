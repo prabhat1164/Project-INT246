{
 "cells": [
  {
   "cell_type": "code",
   "execution_count": 1,
   "metadata": {},
   "outputs": [],
   "source": [
    "import os\n",
    "import numpy as np\n",
    "import pandas as pd\n",
    "import matplotlib.pyplot as plt"
   ]
  },
  {
   "cell_type": "code",
   "execution_count": 31,
   "metadata": {},
   "outputs": [
    {
     "data": {
      "text/html": [
       "<div>\n",
       "<style scoped>\n",
       "    .dataframe tbody tr th:only-of-type {\n",
       "        vertical-align: middle;\n",
       "    }\n",
       "\n",
       "    .dataframe tbody tr th {\n",
       "        vertical-align: top;\n",
       "    }\n",
       "\n",
       "    .dataframe thead th {\n",
       "        text-align: right;\n",
       "    }\n",
       "</style>\n",
       "<table border=\"1\" class=\"dataframe\">\n",
       "  <thead>\n",
       "    <tr style=\"text-align: right;\">\n",
       "      <th></th>\n",
       "      <th>freq[Hz]</th>\n",
       "      <th>re:Trc1_S11</th>\n",
       "      <th>im:Trc1_S11</th>\n",
       "      <th>re:Trc2_S21</th>\n",
       "      <th>im:Trc2_S21</th>\n",
       "      <th>location</th>\n",
       "    </tr>\n",
       "  </thead>\n",
       "  <tbody>\n",
       "    <tr>\n",
       "      <th>0</th>\n",
       "      <td>2.400000e+09</td>\n",
       "      <td>0.150847</td>\n",
       "      <td>0.112573</td>\n",
       "      <td>0.000150</td>\n",
       "      <td>-0.003453</td>\n",
       "      <td>1</td>\n",
       "    </tr>\n",
       "    <tr>\n",
       "      <th>1</th>\n",
       "      <td>2.400167e+09</td>\n",
       "      <td>0.150640</td>\n",
       "      <td>0.110470</td>\n",
       "      <td>0.000107</td>\n",
       "      <td>-0.003357</td>\n",
       "      <td>1</td>\n",
       "    </tr>\n",
       "    <tr>\n",
       "      <th>2</th>\n",
       "      <td>2.400333e+09</td>\n",
       "      <td>0.151034</td>\n",
       "      <td>0.108374</td>\n",
       "      <td>0.000086</td>\n",
       "      <td>-0.003420</td>\n",
       "      <td>1</td>\n",
       "    </tr>\n",
       "    <tr>\n",
       "      <th>3</th>\n",
       "      <td>2.400500e+09</td>\n",
       "      <td>0.151127</td>\n",
       "      <td>0.105698</td>\n",
       "      <td>0.000075</td>\n",
       "      <td>-0.003568</td>\n",
       "      <td>1</td>\n",
       "    </tr>\n",
       "    <tr>\n",
       "      <th>4</th>\n",
       "      <td>2.400667e+09</td>\n",
       "      <td>0.151428</td>\n",
       "      <td>0.103363</td>\n",
       "      <td>-0.000033</td>\n",
       "      <td>-0.003591</td>\n",
       "      <td>1</td>\n",
       "    </tr>\n",
       "  </tbody>\n",
       "</table>\n",
       "</div>"
      ],
      "text/plain": [
       "       freq[Hz]  re:Trc1_S11  im:Trc1_S11  re:Trc2_S21  im:Trc2_S21  location\n",
       "0  2.400000e+09     0.150847     0.112573     0.000150    -0.003453         1\n",
       "1  2.400167e+09     0.150640     0.110470     0.000107    -0.003357         1\n",
       "2  2.400333e+09     0.151034     0.108374     0.000086    -0.003420         1\n",
       "3  2.400500e+09     0.151127     0.105698     0.000075    -0.003568         1\n",
       "4  2.400667e+09     0.151428     0.103363    -0.000033    -0.003591         1"
      ]
     },
     "execution_count": 31,
     "metadata": {},
     "output_type": "execute_result"
    }
   ],
   "source": [
    "df1 = pd.read_csv(\"corridor.csv\",sep =\";\")\n",
    "df1[\"location\"] = 601*[1]\n",
    "df1 = df1.drop([\"Unnamed: 5\"],axis=1)\n",
    "df1.to_csv(\"corridor.csv\",sep=\";\")\n",
    "df1.head()"
   ]
  },
  {
   "cell_type": "code",
   "execution_count": 14,
   "metadata": {},
   "outputs": [
    {
     "data": {
      "text/html": [
       "<div>\n",
       "<style scoped>\n",
       "    .dataframe tbody tr th:only-of-type {\n",
       "        vertical-align: middle;\n",
       "    }\n",
       "\n",
       "    .dataframe tbody tr th {\n",
       "        vertical-align: top;\n",
       "    }\n",
       "\n",
       "    .dataframe thead th {\n",
       "        text-align: right;\n",
       "    }\n",
       "</style>\n",
       "<table border=\"1\" class=\"dataframe\">\n",
       "  <thead>\n",
       "    <tr style=\"text-align: right;\">\n",
       "      <th></th>\n",
       "      <th>Unnamed: 0</th>\n",
       "      <th>freq[Hz]</th>\n",
       "      <th>re:Trc1_S11</th>\n",
       "      <th>im:Trc1_S11</th>\n",
       "      <th>re:Trc2_S21</th>\n",
       "      <th>im:Trc2_S21</th>\n",
       "      <th>location</th>\n",
       "    </tr>\n",
       "  </thead>\n",
       "  <tbody>\n",
       "    <tr>\n",
       "      <th>0</th>\n",
       "      <td>0</td>\n",
       "      <td>2.400000e+09</td>\n",
       "      <td>0.169901</td>\n",
       "      <td>0.039112</td>\n",
       "      <td>0.001952</td>\n",
       "      <td>0.000174</td>\n",
       "      <td>2</td>\n",
       "    </tr>\n",
       "    <tr>\n",
       "      <th>1</th>\n",
       "      <td>1</td>\n",
       "      <td>2.400167e+09</td>\n",
       "      <td>0.170837</td>\n",
       "      <td>0.038595</td>\n",
       "      <td>0.001978</td>\n",
       "      <td>0.000449</td>\n",
       "      <td>2</td>\n",
       "    </tr>\n",
       "    <tr>\n",
       "      <th>2</th>\n",
       "      <td>2</td>\n",
       "      <td>2.400333e+09</td>\n",
       "      <td>0.171450</td>\n",
       "      <td>0.037803</td>\n",
       "      <td>0.001985</td>\n",
       "      <td>0.000433</td>\n",
       "      <td>2</td>\n",
       "    </tr>\n",
       "    <tr>\n",
       "      <th>3</th>\n",
       "      <td>3</td>\n",
       "      <td>2.400500e+09</td>\n",
       "      <td>0.172002</td>\n",
       "      <td>0.037207</td>\n",
       "      <td>0.002133</td>\n",
       "      <td>0.000507</td>\n",
       "      <td>2</td>\n",
       "    </tr>\n",
       "    <tr>\n",
       "      <th>4</th>\n",
       "      <td>4</td>\n",
       "      <td>2.400667e+09</td>\n",
       "      <td>0.172383</td>\n",
       "      <td>0.036402</td>\n",
       "      <td>0.002282</td>\n",
       "      <td>0.000509</td>\n",
       "      <td>2</td>\n",
       "    </tr>\n",
       "  </tbody>\n",
       "</table>\n",
       "</div>"
      ],
      "text/plain": [
       "   Unnamed: 0      freq[Hz]  re:Trc1_S11  im:Trc1_S11  re:Trc2_S21  \\\n",
       "0           0  2.400000e+09     0.169901     0.039112     0.001952   \n",
       "1           1  2.400167e+09     0.170837     0.038595     0.001978   \n",
       "2           2  2.400333e+09     0.171450     0.037803     0.001985   \n",
       "3           3  2.400500e+09     0.172002     0.037207     0.002133   \n",
       "4           4  2.400667e+09     0.172383     0.036402     0.002282   \n",
       "\n",
       "   im:Trc2_S21  location  \n",
       "0     0.000174         2  \n",
       "1     0.000449         2  \n",
       "2     0.000433         2  \n",
       "3     0.000507         2  \n",
       "4     0.000509         2  "
      ]
     },
     "execution_count": 14,
     "metadata": {},
     "output_type": "execute_result"
    }
   ],
   "source": [
    "df2 = pd.read_csv(\"hall.csv\",sep =\";\")\n",
    "\n",
    "# df2[\"location\"] = 601*[2]\n",
    "# df2.to_csv(\"hall.csv\",sep=\";\")\n",
    "df2.head()"
   ]
  },
  {
   "cell_type": "code",
   "execution_count": 15,
   "metadata": {},
   "outputs": [
    {
     "data": {
      "text/html": [
       "<div>\n",
       "<style scoped>\n",
       "    .dataframe tbody tr th:only-of-type {\n",
       "        vertical-align: middle;\n",
       "    }\n",
       "\n",
       "    .dataframe tbody tr th {\n",
       "        vertical-align: top;\n",
       "    }\n",
       "\n",
       "    .dataframe thead th {\n",
       "        text-align: right;\n",
       "    }\n",
       "</style>\n",
       "<table border=\"1\" class=\"dataframe\">\n",
       "  <thead>\n",
       "    <tr style=\"text-align: right;\">\n",
       "      <th></th>\n",
       "      <th>Unnamed: 0</th>\n",
       "      <th>freq[Hz]</th>\n",
       "      <th>re:Trc1_S11</th>\n",
       "      <th>im:Trc1_S11</th>\n",
       "      <th>re:Trc2_S21</th>\n",
       "      <th>im:Trc2_S21</th>\n",
       "      <th>location</th>\n",
       "    </tr>\n",
       "  </thead>\n",
       "  <tbody>\n",
       "    <tr>\n",
       "      <th>0</th>\n",
       "      <td>0</td>\n",
       "      <td>2.400000e+09</td>\n",
       "      <td>0.157296</td>\n",
       "      <td>0.062804</td>\n",
       "      <td>0.000503</td>\n",
       "      <td>0.004841</td>\n",
       "      <td>3</td>\n",
       "    </tr>\n",
       "    <tr>\n",
       "      <th>1</th>\n",
       "      <td>1</td>\n",
       "      <td>2.400167e+09</td>\n",
       "      <td>0.157362</td>\n",
       "      <td>0.061130</td>\n",
       "      <td>0.000863</td>\n",
       "      <td>0.004674</td>\n",
       "      <td>3</td>\n",
       "    </tr>\n",
       "    <tr>\n",
       "      <th>2</th>\n",
       "      <td>2</td>\n",
       "      <td>2.400333e+09</td>\n",
       "      <td>0.157071</td>\n",
       "      <td>0.059171</td>\n",
       "      <td>0.000844</td>\n",
       "      <td>0.004678</td>\n",
       "      <td>3</td>\n",
       "    </tr>\n",
       "    <tr>\n",
       "      <th>3</th>\n",
       "      <td>3</td>\n",
       "      <td>2.400500e+09</td>\n",
       "      <td>0.157248</td>\n",
       "      <td>0.057201</td>\n",
       "      <td>0.001086</td>\n",
       "      <td>0.004684</td>\n",
       "      <td>3</td>\n",
       "    </tr>\n",
       "    <tr>\n",
       "      <th>4</th>\n",
       "      <td>4</td>\n",
       "      <td>2.400667e+09</td>\n",
       "      <td>0.157024</td>\n",
       "      <td>0.055298</td>\n",
       "      <td>0.001171</td>\n",
       "      <td>0.004756</td>\n",
       "      <td>3</td>\n",
       "    </tr>\n",
       "  </tbody>\n",
       "</table>\n",
       "</div>"
      ],
      "text/plain": [
       "   Unnamed: 0      freq[Hz]  re:Trc1_S11  im:Trc1_S11  re:Trc2_S21  \\\n",
       "0           0  2.400000e+09     0.157296     0.062804     0.000503   \n",
       "1           1  2.400167e+09     0.157362     0.061130     0.000863   \n",
       "2           2  2.400333e+09     0.157071     0.059171     0.000844   \n",
       "3           3  2.400500e+09     0.157248     0.057201     0.001086   \n",
       "4           4  2.400667e+09     0.157024     0.055298     0.001171   \n",
       "\n",
       "   im:Trc2_S21  location  \n",
       "0     0.004841         3  \n",
       "1     0.004674         3  \n",
       "2     0.004678         3  \n",
       "3     0.004684         3  \n",
       "4     0.004756         3  "
      ]
     },
     "execution_count": 15,
     "metadata": {},
     "output_type": "execute_result"
    }
   ],
   "source": [
    "df3 = pd.read_csv(\"lab.csv\",sep =\";\")\n",
    "# df3 = df3.drop([\"Unnamed: 5\"],axis=1)\n",
    "# df3[\"location\"] = 601*[3]\n",
    "df3.head()\n",
    "# df3.to_csv(\"lab.csv\",sep=\";\")"
   ]
  },
  {
   "cell_type": "code",
   "execution_count": 16,
   "metadata": {},
   "outputs": [
    {
     "data": {
      "text/html": [
       "<div>\n",
       "<style scoped>\n",
       "    .dataframe tbody tr th:only-of-type {\n",
       "        vertical-align: middle;\n",
       "    }\n",
       "\n",
       "    .dataframe tbody tr th {\n",
       "        vertical-align: top;\n",
       "    }\n",
       "\n",
       "    .dataframe thead th {\n",
       "        text-align: right;\n",
       "    }\n",
       "</style>\n",
       "<table border=\"1\" class=\"dataframe\">\n",
       "  <thead>\n",
       "    <tr style=\"text-align: right;\">\n",
       "      <th></th>\n",
       "      <th>Unnamed: 0</th>\n",
       "      <th>freq[Hz]</th>\n",
       "      <th>re:Trc1_S11</th>\n",
       "      <th>im:Trc1_S11</th>\n",
       "      <th>re:Trc2_S21</th>\n",
       "      <th>im:Trc2_S21</th>\n",
       "      <th>location</th>\n",
       "    </tr>\n",
       "  </thead>\n",
       "  <tbody>\n",
       "    <tr>\n",
       "      <th>0</th>\n",
       "      <td>0</td>\n",
       "      <td>2.400000e+09</td>\n",
       "      <td>0.169438</td>\n",
       "      <td>0.045991</td>\n",
       "      <td>-0.004257</td>\n",
       "      <td>-0.000210</td>\n",
       "      <td>4</td>\n",
       "    </tr>\n",
       "    <tr>\n",
       "      <th>1</th>\n",
       "      <td>1</td>\n",
       "      <td>2.400167e+09</td>\n",
       "      <td>0.170521</td>\n",
       "      <td>0.044999</td>\n",
       "      <td>-0.004037</td>\n",
       "      <td>-0.000066</td>\n",
       "      <td>4</td>\n",
       "    </tr>\n",
       "    <tr>\n",
       "      <th>2</th>\n",
       "      <td>2</td>\n",
       "      <td>2.400333e+09</td>\n",
       "      <td>0.171259</td>\n",
       "      <td>0.043860</td>\n",
       "      <td>-0.004080</td>\n",
       "      <td>0.000180</td>\n",
       "      <td>4</td>\n",
       "    </tr>\n",
       "    <tr>\n",
       "      <th>3</th>\n",
       "      <td>3</td>\n",
       "      <td>2.400500e+09</td>\n",
       "      <td>0.172326</td>\n",
       "      <td>0.042828</td>\n",
       "      <td>-0.004060</td>\n",
       "      <td>0.000240</td>\n",
       "      <td>4</td>\n",
       "    </tr>\n",
       "    <tr>\n",
       "      <th>4</th>\n",
       "      <td>4</td>\n",
       "      <td>2.400667e+09</td>\n",
       "      <td>0.173289</td>\n",
       "      <td>0.041912</td>\n",
       "      <td>-0.004082</td>\n",
       "      <td>0.000581</td>\n",
       "      <td>4</td>\n",
       "    </tr>\n",
       "  </tbody>\n",
       "</table>\n",
       "</div>"
      ],
      "text/plain": [
       "   Unnamed: 0      freq[Hz]  re:Trc1_S11  im:Trc1_S11  re:Trc2_S21  \\\n",
       "0           0  2.400000e+09     0.169438     0.045991    -0.004257   \n",
       "1           1  2.400167e+09     0.170521     0.044999    -0.004037   \n",
       "2           2  2.400333e+09     0.171259     0.043860    -0.004080   \n",
       "3           3  2.400500e+09     0.172326     0.042828    -0.004060   \n",
       "4           4  2.400667e+09     0.173289     0.041912    -0.004082   \n",
       "\n",
       "   im:Trc2_S21  location  \n",
       "0    -0.000210         4  \n",
       "1    -0.000066         4  \n",
       "2     0.000180         4  \n",
       "3     0.000240         4  \n",
       "4     0.000581         4  "
      ]
     },
     "execution_count": 16,
     "metadata": {},
     "output_type": "execute_result"
    }
   ],
   "source": [
    "df4 = pd.read_csv(\"lobby.csv\",sep =\";\")\n",
    "# df4 = df4.drop([\"Unnamed: 0.1\"],axis=1)\n",
    "# df4 = df4.drop([\"Unnamed: 0\"],axis=1)\n",
    "\n",
    "\n",
    "# df4[\"location\"] = 601*[4]\n",
    "\n",
    "# df4.to_csv(\"lobby.csv\",sep=\";\")\n",
    "df4.head()\n",
    "\n"
   ]
  },
  {
   "cell_type": "code",
   "execution_count": 46,
   "metadata": {},
   "outputs": [
    {
     "name": "stdout",
     "output_type": "stream",
     "text": [
      "       freq[Hz]  re:Trc1_S11  im:Trc1_S11  re:Trc2_S21  im:Trc2_S21  location\n",
      "0  2.442500e+09     0.065093    -0.178887     0.002500     0.000091         3\n",
      "1  2.495000e+09    -0.167017     0.018190    -0.000653     0.002994         2\n",
      "2  2.404333e+09     0.176713     0.053134    -0.002797    -0.001517         1\n",
      "3  2.461167e+09    -0.030018    -0.180157    -0.000755    -0.002616         4\n",
      "4  2.494500e+09    -0.180017     0.009182    -0.001318    -0.000188         3\n"
     ]
    }
   ],
   "source": [
    "# df = pd.DataFrame()\n",
    "# for file in os.listdir(os.getcwd()):\n",
    "#     if file.endswith('.csv'):\n",
    "#         df = df.append(pd.read_csv(file,sep=';'))\n",
    "\n",
    "# df = pd.read_csv(\"combined.csv\",sep=\";\")\n",
    "# df.to_csv(\"combined.csv\",sep=\";\")\n",
    "df = pd.read_csv(\"combined.csv\",sep=\";\")\n",
    "df = df.drop([\"Unnamed: 0\"],axis=1)\n",
    "# df = df.drop([\"Unnamed: 0.1\"],axis=1)\n",
    "# \n",
    "# from sklearn.utils import shuffle\n",
    "# df = shuffle(df)\n",
    "# df.to_csv(\"combined.csv\",sep=\";\")   \n",
    "print(df.head())\n",
    "# print(df.info())"
   ]
  },
  {
   "cell_type": "code",
   "execution_count": 50,
   "metadata": {},
   "outputs": [
    {
     "name": "stdout",
     "output_type": "stream",
     "text": [
      "[3 2 1 ... 4 3 1]\n",
      "[[ 6.50930852e-02 -1.78887486e-01  2.49989424e-03  9.14723787e-05]\n",
      " [-1.67016670e-01  1.81901362e-02 -6.52966730e-04  2.99406005e-03]\n",
      " [ 1.76713213e-01  5.31339012e-02 -2.79671303e-03 -1.51681330e-03]\n",
      " ...\n",
      " [ 3.19809131e-02 -1.72506765e-01  4.42481926e-03  3.60294973e-04]\n",
      " [ 1.65817484e-01  2.53259186e-02  4.07670625e-03  3.09458328e-03]\n",
      " [ 9.25502107e-02 -1.58348009e-01 -1.22473214e-03 -1.03796681e-03]]\n"
     ]
    }
   ],
   "source": [
    "x = df.iloc[:,1:-1].values\n",
    "y = df.iloc[:,5].values\n",
    "print(y)\n",
    "print(x)\n"
   ]
  },
  {
   "cell_type": "code",
   "execution_count": 51,
   "metadata": {},
   "outputs": [],
   "source": [
    "from sklearn.model_selection import train_test_split\n",
    "X_train, X_test, y_train, y_test = train_test_split(x,y,test_size=0.2)"
   ]
  },
  {
   "cell_type": "code",
   "execution_count": 52,
   "metadata": {},
   "outputs": [],
   "source": [
    "from sklearn.preprocessing import StandardScaler\n",
    "scalar = StandardScaler()\n",
    "scalar.fit(X_train)\n",
    "X_train = scalar.transform(X_train)\n",
    "X_test = scalar.transform(X_test)"
   ]
  },
  {
   "cell_type": "code",
   "execution_count": 53,
   "metadata": {},
   "outputs": [
    {
     "data": {
      "text/plain": [
       "KNeighborsClassifier()"
      ]
     },
     "execution_count": 53,
     "metadata": {},
     "output_type": "execute_result"
    }
   ],
   "source": [
    "from sklearn.neighbors import KNeighborsClassifier\n",
    "classifier = KNeighborsClassifier(n_neighbors=5)\n",
    "classifier.fit(X_train,y_train)"
   ]
  },
  {
   "cell_type": "code",
   "execution_count": 54,
   "metadata": {},
   "outputs": [],
   "source": [
    "y_pred = classifier.predict(X_test)"
   ]
  },
  {
   "cell_type": "code",
   "execution_count": 60,
   "metadata": {},
   "outputs": [
    {
     "name": "stdout",
     "output_type": "stream",
     "text": [
      "              precision    recall  f1-score   support\n",
      "\n",
      "           1       1.00      1.00      1.00       117\n",
      "           2       1.00      1.00      1.00       121\n",
      "           3       1.00      1.00      1.00       116\n",
      "           4       1.00      1.00      1.00       127\n",
      "\n",
      "    accuracy                           1.00       481\n",
      "   macro avg       1.00      1.00      1.00       481\n",
      "weighted avg       1.00      1.00      1.00       481\n",
      "\n"
     ]
    }
   ],
   "source": [
    "from sklearn.metrics import classification_report, confusion_matrix\n",
    "print(classification_report(y_test,y_pred))"
   ]
  },
  {
   "cell_type": "code",
   "execution_count": 59,
   "metadata": {},
   "outputs": [
    {
     "ename": "ValueError",
     "evalue": "Expected 2D array, got 1D array instead:\narray=[-1.44457528  0.38697654 -0.14420364 -0.89942267].\nReshape your data either using array.reshape(-1, 1) if your data has a single feature or array.reshape(1, -1) if it contains a single sample.",
     "output_type": "error",
     "traceback": [
      "\u001b[0;31m---------------------------------------------------------------------------\u001b[0m",
      "\u001b[0;31mValueError\u001b[0m                                Traceback (most recent call last)",
      "\u001b[0;32m/tmp/ipykernel_3848/1182062972.py\u001b[0m in \u001b[0;36m<module>\u001b[0;34m\u001b[0m\n\u001b[0;32m----> 1\u001b[0;31m \u001b[0mclassifier\u001b[0m\u001b[0;34m.\u001b[0m\u001b[0mpredict\u001b[0m\u001b[0;34m(\u001b[0m\u001b[0mX_train\u001b[0m\u001b[0;34m[\u001b[0m\u001b[0;36m0\u001b[0m\u001b[0;34m]\u001b[0m\u001b[0;34m)\u001b[0m\u001b[0;34m\u001b[0m\u001b[0;34m\u001b[0m\u001b[0m\n\u001b[0m",
      "\u001b[0;32m~/.local/lib/python3.9/site-packages/sklearn/neighbors/_classification.py\u001b[0m in \u001b[0;36mpredict\u001b[0;34m(self, X)\u001b[0m\n\u001b[1;32m    212\u001b[0m             \u001b[0mClass\u001b[0m \u001b[0mlabels\u001b[0m \u001b[0;32mfor\u001b[0m \u001b[0meach\u001b[0m \u001b[0mdata\u001b[0m \u001b[0msample\u001b[0m\u001b[0;34m.\u001b[0m\u001b[0;34m\u001b[0m\u001b[0;34m\u001b[0m\u001b[0m\n\u001b[1;32m    213\u001b[0m         \"\"\"\n\u001b[0;32m--> 214\u001b[0;31m         \u001b[0mneigh_dist\u001b[0m\u001b[0;34m,\u001b[0m \u001b[0mneigh_ind\u001b[0m \u001b[0;34m=\u001b[0m \u001b[0mself\u001b[0m\u001b[0;34m.\u001b[0m\u001b[0mkneighbors\u001b[0m\u001b[0;34m(\u001b[0m\u001b[0mX\u001b[0m\u001b[0;34m)\u001b[0m\u001b[0;34m\u001b[0m\u001b[0;34m\u001b[0m\u001b[0m\n\u001b[0m\u001b[1;32m    215\u001b[0m         \u001b[0mclasses_\u001b[0m \u001b[0;34m=\u001b[0m \u001b[0mself\u001b[0m\u001b[0;34m.\u001b[0m\u001b[0mclasses_\u001b[0m\u001b[0;34m\u001b[0m\u001b[0;34m\u001b[0m\u001b[0m\n\u001b[1;32m    216\u001b[0m         \u001b[0m_y\u001b[0m \u001b[0;34m=\u001b[0m \u001b[0mself\u001b[0m\u001b[0;34m.\u001b[0m\u001b[0m_y\u001b[0m\u001b[0;34m\u001b[0m\u001b[0;34m\u001b[0m\u001b[0m\n",
      "\u001b[0;32m~/.local/lib/python3.9/site-packages/sklearn/neighbors/_base.py\u001b[0m in \u001b[0;36mkneighbors\u001b[0;34m(self, X, n_neighbors, return_distance)\u001b[0m\n\u001b[1;32m    712\u001b[0m                 \u001b[0mX\u001b[0m \u001b[0;34m=\u001b[0m \u001b[0m_check_precomputed\u001b[0m\u001b[0;34m(\u001b[0m\u001b[0mX\u001b[0m\u001b[0;34m)\u001b[0m\u001b[0;34m\u001b[0m\u001b[0;34m\u001b[0m\u001b[0m\n\u001b[1;32m    713\u001b[0m             \u001b[0;32melse\u001b[0m\u001b[0;34m:\u001b[0m\u001b[0;34m\u001b[0m\u001b[0;34m\u001b[0m\u001b[0m\n\u001b[0;32m--> 714\u001b[0;31m                 \u001b[0mX\u001b[0m \u001b[0;34m=\u001b[0m \u001b[0mself\u001b[0m\u001b[0;34m.\u001b[0m\u001b[0m_validate_data\u001b[0m\u001b[0;34m(\u001b[0m\u001b[0mX\u001b[0m\u001b[0;34m,\u001b[0m \u001b[0maccept_sparse\u001b[0m\u001b[0;34m=\u001b[0m\u001b[0;34m\"csr\"\u001b[0m\u001b[0;34m,\u001b[0m \u001b[0mreset\u001b[0m\u001b[0;34m=\u001b[0m\u001b[0;32mFalse\u001b[0m\u001b[0;34m)\u001b[0m\u001b[0;34m\u001b[0m\u001b[0;34m\u001b[0m\u001b[0m\n\u001b[0m\u001b[1;32m    715\u001b[0m         \u001b[0;32melse\u001b[0m\u001b[0;34m:\u001b[0m\u001b[0;34m\u001b[0m\u001b[0;34m\u001b[0m\u001b[0m\n\u001b[1;32m    716\u001b[0m             \u001b[0mquery_is_train\u001b[0m \u001b[0;34m=\u001b[0m \u001b[0;32mTrue\u001b[0m\u001b[0;34m\u001b[0m\u001b[0;34m\u001b[0m\u001b[0m\n",
      "\u001b[0;32m~/.local/lib/python3.9/site-packages/sklearn/base.py\u001b[0m in \u001b[0;36m_validate_data\u001b[0;34m(self, X, y, reset, validate_separately, **check_params)\u001b[0m\n\u001b[1;32m    559\u001b[0m             \u001b[0;32mraise\u001b[0m \u001b[0mValueError\u001b[0m\u001b[0;34m(\u001b[0m\u001b[0;34m\"Validation should be done on X, y or both.\"\u001b[0m\u001b[0;34m)\u001b[0m\u001b[0;34m\u001b[0m\u001b[0;34m\u001b[0m\u001b[0m\n\u001b[1;32m    560\u001b[0m         \u001b[0;32melif\u001b[0m \u001b[0;32mnot\u001b[0m \u001b[0mno_val_X\u001b[0m \u001b[0;32mand\u001b[0m \u001b[0mno_val_y\u001b[0m\u001b[0;34m:\u001b[0m\u001b[0;34m\u001b[0m\u001b[0;34m\u001b[0m\u001b[0m\n\u001b[0;32m--> 561\u001b[0;31m             \u001b[0mX\u001b[0m \u001b[0;34m=\u001b[0m \u001b[0mcheck_array\u001b[0m\u001b[0;34m(\u001b[0m\u001b[0mX\u001b[0m\u001b[0;34m,\u001b[0m \u001b[0;34m**\u001b[0m\u001b[0mcheck_params\u001b[0m\u001b[0;34m)\u001b[0m\u001b[0;34m\u001b[0m\u001b[0;34m\u001b[0m\u001b[0m\n\u001b[0m\u001b[1;32m    562\u001b[0m             \u001b[0mout\u001b[0m \u001b[0;34m=\u001b[0m \u001b[0mX\u001b[0m\u001b[0;34m\u001b[0m\u001b[0;34m\u001b[0m\u001b[0m\n\u001b[1;32m    563\u001b[0m         \u001b[0;32melif\u001b[0m \u001b[0mno_val_X\u001b[0m \u001b[0;32mand\u001b[0m \u001b[0;32mnot\u001b[0m \u001b[0mno_val_y\u001b[0m\u001b[0;34m:\u001b[0m\u001b[0;34m\u001b[0m\u001b[0;34m\u001b[0m\u001b[0m\n",
      "\u001b[0;32m~/.local/lib/python3.9/site-packages/sklearn/utils/validation.py\u001b[0m in \u001b[0;36mcheck_array\u001b[0;34m(array, accept_sparse, accept_large_sparse, dtype, order, copy, force_all_finite, ensure_2d, allow_nd, ensure_min_samples, ensure_min_features, estimator)\u001b[0m\n\u001b[1;32m    759\u001b[0m             \u001b[0;31m# If input is 1D raise error\u001b[0m\u001b[0;34m\u001b[0m\u001b[0;34m\u001b[0m\u001b[0m\n\u001b[1;32m    760\u001b[0m             \u001b[0;32mif\u001b[0m \u001b[0marray\u001b[0m\u001b[0;34m.\u001b[0m\u001b[0mndim\u001b[0m \u001b[0;34m==\u001b[0m \u001b[0;36m1\u001b[0m\u001b[0;34m:\u001b[0m\u001b[0;34m\u001b[0m\u001b[0;34m\u001b[0m\u001b[0m\n\u001b[0;32m--> 761\u001b[0;31m                 raise ValueError(\n\u001b[0m\u001b[1;32m    762\u001b[0m                     \u001b[0;34m\"Expected 2D array, got 1D array instead:\\narray={}.\\n\"\u001b[0m\u001b[0;34m\u001b[0m\u001b[0;34m\u001b[0m\u001b[0m\n\u001b[1;32m    763\u001b[0m                     \u001b[0;34m\"Reshape your data either using array.reshape(-1, 1) if \"\u001b[0m\u001b[0;34m\u001b[0m\u001b[0;34m\u001b[0m\u001b[0m\n",
      "\u001b[0;31mValueError\u001b[0m: Expected 2D array, got 1D array instead:\narray=[-1.44457528  0.38697654 -0.14420364 -0.89942267].\nReshape your data either using array.reshape(-1, 1) if your data has a single feature or array.reshape(1, -1) if it contains a single sample."
     ]
    }
   ],
   "source": [
    "classifier.predict(X_train[0])"
   ]
  }
 ],
 "metadata": {
  "interpreter": {
   "hash": "e7370f93d1d0cde622a1f8e1c04877d8463912d04d973331ad4851f04de6915a"
  },
  "kernelspec": {
   "display_name": "Python 3.9.7 64-bit",
   "language": "python",
   "name": "python3"
  },
  "language_info": {
   "codemirror_mode": {
    "name": "ipython",
    "version": 3
   },
   "file_extension": ".py",
   "mimetype": "text/x-python",
   "name": "python",
   "nbconvert_exporter": "python",
   "pygments_lexer": "ipython3",
   "version": "3.9.7"
  },
  "orig_nbformat": 4
 },
 "nbformat": 4,
 "nbformat_minor": 2
}
